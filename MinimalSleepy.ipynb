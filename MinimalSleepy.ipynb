{
 "cells": [
  {
   "cell_type": "markdown",
   "id": "2814fcaa-83cb-428c-98bf-5b22f75d8574",
   "metadata": {
    "tags": []
   },
   "source": [
    "## Struct"
   ]
  },
  {
   "cell_type": "code",
   "execution_count": 1,
   "id": "19f4b38e-696e-449a-a2fd-3af6ad595820",
   "metadata": {},
   "outputs": [],
   "source": [
    "struct SleepyTree{\n",
    "    vars, #::Int\n",
    "    grad, #::Int\n",
    "    leafs, #::Tuple\n",
    "    it #::Tuple\n",
    "    }end"
   ]
  },
  {
   "cell_type": "markdown",
   "id": "bc2c9d57-c772-417d-9b46-67fcd0647d01",
   "metadata": {
    "tags": []
   },
   "source": [
    "## Utils"
   ]
  },
  {
   "cell_type": "code",
   "execution_count": 2,
   "id": "5a4d627a-ae19-4c51-b2f7-4ac1977a2a59",
   "metadata": {},
   "outputs": [
    {
     "data": {
      "text/plain": [
       "zeroleafs (generic function with 1 method)"
      ]
     },
     "execution_count": 2,
     "metadata": {},
     "output_type": "execute_result"
    }
   ],
   "source": [
    "@generated function _zeroleafs(leafs, vars, it::NTuple{len, T})  where {len, T}\n",
    "    exs = Array{Expr}(undef, len)\n",
    "    for i in 1:len\n",
    "        exs[i] = :(leafs = setindexsleepytree(leafs, 0, it[$i], length(it[$i]), 1, vars, 0))\n",
    "    end\n",
    "    \n",
    "   return Expr(:block, exs...) \n",
    "end \n",
    "\n",
    "@generated function zeroleafs(leafs, vars, ::Val{g}, it) where{g}\n",
    "    exs = Array{Expr}(undef, g+1)\n",
    "    exs[1] = :(z = deepcopy(leafs))\n",
    "    for i in 1:g\n",
    "        exs[i+1] = :(z = _zeroleafs(z, vars, it[$i]))\n",
    "    end\n",
    "    \n",
    "   return Expr(:block, exs...) \n",
    "end"
   ]
  },
  {
   "cell_type": "code",
   "execution_count": 3,
   "id": "79f8cdb3-b3b8-43a1-9694-f736f984acac",
   "metadata": {},
   "outputs": [
    {
     "data": {
      "text/plain": [
       "_coors2value"
      ]
     },
     "execution_count": 3,
     "metadata": {},
     "output_type": "execute_result"
    }
   ],
   "source": [
    "\"\"\"\n",
    "     _coors2value(node::Tuple, coors::Tuple, coors_len::Int, ix::Int)\n",
    "Regresa el valor de las coordenadas en el árbol de tuplas.\n",
    "\n",
    "Ejemplo\n",
    "```\n",
    "#_coors2value(tupleTree(3, Int, 3), (1,), 1, 1)\n",
    "#_coors2value(setindexsleepytree(getleafs(x), 1, (), 0, 1, 3, 0), (), 0, 1)\n",
    "```\n",
    "\"\"\"\n",
    "function _coors2value(node::Tuple, coors::Tuple, coors_len::Int, ix::Int)\n",
    "    if(coors_len < ix)\n",
    "        return node[1]\n",
    "    end\n",
    "   return _coors2value(node[2][coors[ix]], coors, coors_len, ix+1)\n",
    "end"
   ]
  },
  {
   "cell_type": "code",
   "execution_count": 4,
   "id": "fc0161dd-f3c2-4c5e-8fe5-f72cca2a786a",
   "metadata": {},
   "outputs": [
    {
     "data": {
      "text/plain": [
       "fusioncoors"
      ]
     },
     "execution_count": 4,
     "metadata": {},
     "output_type": "execute_result"
    }
   ],
   "source": [
    "\"\"\"\n",
    "    fusioncoors(coors1::NTuple, coors2::NTuple, offset1=0, offset2=0)\n",
    "\n",
    "Dadas dos tupla  de coordenadas regres la fusion de las coordenadas.\n",
    "\n",
    "Ejemplo\n",
    "```\n",
    "fusioncoors((3,1,2), (2,2,2))  # (1,1,2,1,1,1,1,1)\n",
    "```\n",
    "\"\"\"\n",
    "function fusioncoors(\n",
    "        coors1::NTuple{len1, Int}, coors2::NTuple{len2, Int}, \n",
    "        offset1=0, offset2=0) where {len1, len2}\n",
    "    if len1 == 0 && len2 == 0\n",
    "        return ()\n",
    "    elseif len1 == 0\n",
    "        return (coors2[1]-offset2,coors2[2:len2]...) # finish coors2\n",
    "    elseif len2 == 0\n",
    "        return (coors1[1]-offset1,coors1[2:len1]...)# finish coors1\n",
    "    elseif coors1[1]-offset1 == coors2[1]-offset2\n",
    "        return (coors1[1]-offset1, 1, fusioncoors(coors1[2:len1], coors2[2:len2], 0, 0)...)\n",
    "    elseif coors1[1]-offset1 < coors2[1]-offset2\n",
    "        return (coors1[1]-offset1, fusioncoors(coors1[2:len1], coors2, 0, coors1[1]-1+offset2)...)\n",
    "    else # coors1[ix1] >= coors2[ix2]\n",
    "        return (coors2[1]-offset2, fusioncoors(coors1, coors2[2:len2], coors2[1]-1+offset1, 0)...)\n",
    "    end\n",
    "end"
   ]
  },
  {
   "cell_type": "code",
   "execution_count": 5,
   "id": "bc28b54e-e256-4841-ab41-8e8a228872c5",
   "metadata": {},
   "outputs": [
    {
     "data": {
      "text/plain": [
       "setindexsleepytree (generic function with 1 method)"
      ]
     },
     "execution_count": 5,
     "metadata": {},
     "output_type": "execute_result"
    }
   ],
   "source": [
    "function setindexsleepytree(node::Tuple, val, coors::Tuple, coors_len::Int, ix::Int, vars::Int, offset::Int)\n",
    "    if(coors_len < ix)\n",
    "        if length(node)>1\n",
    "            return @inbounds (val, node[2])\n",
    "        else\n",
    "            return (val,)\n",
    "        end\n",
    "    end\n",
    "    leafs = (node[2][1:coors[ix]-1]...,\n",
    "            setindexsleepytree(node[2][coors[ix]], val, coors, coors_len, ix+1, vars, offset+1-coors[ix]),\n",
    "            node[2][coors[ix]+1:vars+offset]...)\n",
    "   return @inbounds (node[1], leafs)\n",
    "        \n",
    "end\n",
    "#setindexsleepytree(leafs, 1, (i,), 1, 1, vars, 0)\n",
    "#setindexsleepytree(getleafs(x), 1, (), 0, 1, 3, 0)"
   ]
  },
  {
   "cell_type": "code",
   "execution_count": 6,
   "id": "2b4c3308-e4f6-47f4-859c-f1996462478e",
   "metadata": {},
   "outputs": [
    {
     "data": {
      "text/plain": [
       "setindexsleepytree (generic function with 2 methods)"
      ]
     },
     "execution_count": 6,
     "metadata": {},
     "output_type": "execute_result"
    }
   ],
   "source": [
    "function setindexsleepytree(node::Tuple, val, coors::Tuple, coors_len::Int, ix::Int, vars::Int, offset::Int, op::Function) \n",
    "    if(coors_len < ix)\n",
    "        if length(node)>1\n",
    "            return @inbounds (op(node[1], val), node[2])\n",
    "        else     \n",
    "            return (op(node[1], val),)\n",
    "        end\n",
    "    end\n",
    "    leafs = (node[2][1:coors[ix]-1]...,\n",
    "            setindexsleepytree(node[2][coors[ix]], val, coors, coors_len, ix+1, vars, offset+1-coors[ix], op),\n",
    "            node[2][coors[ix]+1:vars+offset]...)\n",
    "   return @inbounds (node[1], leafs)\n",
    "        \n",
    "end\n",
    "#setindexsleepytree(getleafs(x), 4, (1,), 1, 1, 3, 0, +)"
   ]
  },
  {
   "cell_type": "code",
   "execution_count": 7,
   "id": "cda4bacc-18a3-4b88-b38f-6d0e4cb0a9dc",
   "metadata": {},
   "outputs": [
    {
     "data": {
      "text/plain": [
       "setindex (generic function with 4 methods)"
      ]
     },
     "execution_count": 7,
     "metadata": {},
     "output_type": "execute_result"
    }
   ],
   "source": [
    "setindex(leafs::Tuple, val, coors::Tuple, vars::Int) = \n",
    "    setindexsleepytree(leafs, val, coors, length(coors), 1, vars, 0)\n",
    "setindex(leafs::Tuple, val, coors::Tuple, vars::Int, op::Function) = \n",
    "    setindexsleepytree(leafs, val, coors, length(coors), 1, vars, 0, op)\n",
    "setindex(t::SleepyTree{vars, grad, leafs, it}, val, coors::Tuple\n",
    "    ) where {vars, grad, leafs, it} = \n",
    "    setindexsleepytree(leafs, val, coors, length(coors), 1, vars, 0)\n",
    "setindex(t::SleepyTree{vars, grad, leafs, it}, val, coors::Tuple, op::Function\n",
    "    ) where {vars, grad, leafs, it} = \n",
    "    setindexsleepytree(leafs, val, coors, length(coors), 1, vars, 0, op)"
   ]
  },
  {
   "cell_type": "code",
   "execution_count": 8,
   "id": "e357168e-2ae3-41f8-b2fb-508d9967909e",
   "metadata": {},
   "outputs": [
    {
     "data": {
      "text/plain": [
       "tupleTree"
      ]
     },
     "execution_count": 8,
     "metadata": {},
     "output_type": "execute_result"
    }
   ],
   "source": [
    "function tupleTreeAux(nvars, typ, grad, ix)\n",
    "     if grad == ix\n",
    "        return  Tuple(zero(typ) for _ in 1:nvars)\n",
    "    end\n",
    "   return (zero(typ), Tuple(tupleTreeAux(nvars-i, typ, grad, ix+1) for i in 0:(nvars-1))) #\"g($ix,$nvars)\"\n",
    "end\n",
    "\n",
    "\"\"\"\n",
    "    tupleTree(nvars, typ, grad)\n",
    "\n",
    "Regresa la forma de tupla de un SleepyTree con un número de variables igual a nvars,\n",
    "de tipo typ y grado grad.\n",
    "\n",
    "```julia\n",
    "tupleTree(3, Int, 6)\n",
    "```\n",
    "\"\"\"\n",
    "function tupleTree(nvars, typ, grad)\n",
    "    (zero(typ), Tuple(tupleTreeAux(nvars-i, typ, grad, 1) for i in 0:(nvars)-1))\n",
    "end\n"
   ]
  },
  {
   "cell_type": "code",
   "execution_count": 9,
   "id": "29358857-a902-4b55-9091-d20c81759432",
   "metadata": {},
   "outputs": [
    {
     "data": {
      "text/plain": [
       "totalnodes (generic function with 1 method)"
      ]
     },
     "execution_count": 9,
     "metadata": {},
     "output_type": "execute_result"
    }
   ],
   "source": [
    "totalnodes(n, d) = factorial(d+n)/(factorial(d)*factorial(n))"
   ]
  },
  {
   "cell_type": "markdown",
   "id": "50d321d1-48bc-4a7d-8853-2ca4bedfa22d",
   "metadata": {
    "tags": []
   },
   "source": [
    "### Funciones para generar en el iterador"
   ]
  },
  {
   "cell_type": "code",
   "execution_count": 10,
   "id": "11a7e4dc-182a-444d-ac17-328525f1f50f",
   "metadata": {},
   "outputs": [
    {
     "data": {
      "text/plain": [
       "vary (generic function with 1 method)"
      ]
     },
     "execution_count": 10,
     "metadata": {},
     "output_type": "execute_result"
    }
   ],
   "source": [
    "function vary(t, index, max, vars,grad)\n",
    "    p = ()\n",
    "    for j in 1:max\n",
    "        p = (p..., (t[1:index-1]..., j, t[index+1:grad]...))\n",
    "    end  \n",
    "    return p\n",
    "end"
   ]
  },
  {
   "cell_type": "code",
   "execution_count": 11,
   "id": "f6f6e5d8-7354-415d-89b3-ff04306cdc2e",
   "metadata": {},
   "outputs": [
    {
     "data": {
      "text/plain": [
       "((1, 1), (1, 2), (1, 3), (1, 4), (2, 1), (2, 2), (2, 3), (3, 1), (3, 2), (4, 1))"
      ]
     },
     "execution_count": 11,
     "metadata": {},
     "output_type": "execute_result"
    }
   ],
   "source": [
    "function _ix(t, index, grad, offset, vars)\n",
    "    if grad==0\n",
    "        return ((),)\n",
    "    end\n",
    "    if(index==grad)\n",
    "        return  vary(t, index, vars-offset, vars,grad)\n",
    "    end\n",
    "    p = ()\n",
    "    for i in 1:vars\n",
    "        p = (p..., _ix(t, index+1, grad, offset+i-1, vars)...)\n",
    "        t = (t[1:index-1]..., t[index]+1, t[index+1:grad]...)\n",
    "       \n",
    "    end\n",
    "    return p\n",
    "end\n",
    "_ix((1,1), 1, 2, 0, 4)"
   ]
  },
  {
   "cell_type": "code",
   "execution_count": 12,
   "id": "c778ff6c-00b4-4546-8789-db0c2e4048b4",
   "metadata": {},
   "outputs": [
    {
     "data": {
      "text/plain": [
       "(((),), ((1,), (2,), (3,), (4,)), ((1, 1), (1, 2), (1, 3), (1, 4), (2, 1), (2, 2), (2, 3), (3, 1), (3, 2), (4, 1)))"
      ]
     },
     "execution_count": 12,
     "metadata": {},
     "output_type": "execute_result"
    }
   ],
   "source": [
    "function ix(vars, grad)\n",
    "    Tuple(_ix(Tuple(1 for j in 1:i), 1, i, 0, vars) for i in 0:grad)\n",
    "end\n",
    "ix(4, 2)"
   ]
  },
  {
   "cell_type": "markdown",
   "id": "9f175ce9-0924-44f1-ad34-d312167ffc5a",
   "metadata": {
    "tags": []
   },
   "source": [
    "## Set variables"
   ]
  },
  {
   "cell_type": "code",
   "execution_count": 13,
   "id": "bfb661d6-d825-4d38-87f3-c42e9b83afbd",
   "metadata": {},
   "outputs": [
    {
     "data": {
      "text/plain": [
       "setvariables (generic function with 1 method)"
      ]
     },
     "execution_count": 13,
     "metadata": {},
     "output_type": "execute_result"
    }
   ],
   "source": [
    "function setvariables(vars, grad, typ)\n",
    "    leafs = tupleTree(vars, Int, grad)\n",
    "    it = ix(vars, grad)\n",
    "    Tuple(SleepyTree{vars, grad, setindexsleepytree(leafs, 1, (i,), 1, 1, vars, 0), deepcopy(it)}() for i in 1:vars)\n",
    "end"
   ]
  },
  {
   "cell_type": "markdown",
   "id": "83246556-6376-48d6-8114-56be13f9deee",
   "metadata": {},
   "source": [
    "### Ejemplo\n",
    "Es importante que sean constantes porque sino no tenemos el brinco en velocidad\n",
    "\n",
    "Son tres variables de grado 4"
   ]
  },
  {
   "cell_type": "code",
   "execution_count": 14,
   "id": "cb39ad00-5e20-446e-ba25-a093cf47f2a8",
   "metadata": {},
   "outputs": [
    {
     "data": {
      "text/plain": [
       "(SleepyTree{3, 4, 35.0, (0, ((1, ((0, ((0, ((0, 0, 0), (0, 0), (0,))), (0, ((0, 0), (0,))), (0, ((0,),)))), (0, ((0, ((0, 0), (0,))), (0, ((0,),)))), (0, ((0, ((0,),)),)))), (0, ((0, ((0, ((0, 0), (0,))), (0, ((0,),)))), (0, ((0, ((0,),)),)))), (0, ((0, ((0, ((0,),)),)),)))), (((),), ((1,), (2,), (3,)), ((1, 1), (1, 2), (1, 3), (2, 1), (2, 2), (3, 1)), ((1, 1, 1), (1, 1, 2), (1, 1, 3), (1, 2, 1), (1, 2, 2), (1, 3, 1), (2, 1, 1), (2, 1, 2), (2, 2, 1), (3, 1, 1)), ((1, 1, 1, 1), (1, 1, 1, 2), (1, 1, 1, 3), (1, 1, 2, 1), (1, 1, 2, 2), (1, 1, 3, 1), (1, 2, 1, 1), (1, 2, 1, 2), (1, 2, 2, 1), (1, 3, 1, 1), (2, 1, 1, 1), (2, 1, 1, 2), (2, 1, 2, 1), (2, 2, 1, 1), (3, 1, 1, 1)))}(), SleepyTree{3, 4, 35.0, (0, ((0, ((0, ((0, ((0, 0, 0), (0, 0), (0,))), (0, ((0, 0), (0,))), (0, ((0,),)))), (0, ((0, ((0, 0), (0,))), (0, ((0,),)))), (0, ((0, ((0,),)),)))), (1, ((0, ((0, ((0, 0), (0,))), (0, ((0,),)))), (0, ((0, ((0,),)),)))), (0, ((0, ((0, ((0,),)),)),)))), (((),), ((1,), (2,), (3,)), ((1, 1), (1, 2), (1, 3), (2, 1), (2, 2), (3, 1)), ((1, 1, 1), (1, 1, 2), (1, 1, 3), (1, 2, 1), (1, 2, 2), (1, 3, 1), (2, 1, 1), (2, 1, 2), (2, 2, 1), (3, 1, 1)), ((1, 1, 1, 1), (1, 1, 1, 2), (1, 1, 1, 3), (1, 1, 2, 1), (1, 1, 2, 2), (1, 1, 3, 1), (1, 2, 1, 1), (1, 2, 1, 2), (1, 2, 2, 1), (1, 3, 1, 1), (2, 1, 1, 1), (2, 1, 1, 2), (2, 1, 2, 1), (2, 2, 1, 1), (3, 1, 1, 1)))}(), SleepyTree{3, 4, 35.0, (0, ((0, ((0, ((0, ((0, 0, 0), (0, 0), (0,))), (0, ((0, 0), (0,))), (0, ((0,),)))), (0, ((0, ((0, 0), (0,))), (0, ((0,),)))), (0, ((0, ((0,),)),)))), (0, ((0, ((0, ((0, 0), (0,))), (0, ((0,),)))), (0, ((0, ((0,),)),)))), (1, ((0, ((0, ((0,),)),)),)))), (((),), ((1,), (2,), (3,)), ((1, 1), (1, 2), (1, 3), (2, 1), (2, 2), (3, 1)), ((1, 1, 1), (1, 1, 2), (1, 1, 3), (1, 2, 1), (1, 2, 2), (1, 3, 1), (2, 1, 1), (2, 1, 2), (2, 2, 1), (3, 1, 1)), ((1, 1, 1, 1), (1, 1, 1, 2), (1, 1, 1, 3), (1, 1, 2, 1), (1, 1, 2, 2), (1, 1, 3, 1), (1, 2, 1, 1), (1, 2, 1, 2), (1, 2, 2, 1), (1, 3, 1, 1), (2, 1, 1, 1), (2, 1, 1, 2), (2, 1, 2, 1), (2, 2, 1, 1), (3, 1, 1, 1)))}())"
      ]
     },
     "execution_count": 14,
     "metadata": {},
     "output_type": "execute_result"
    }
   ],
   "source": [
    "const x,y,z= setvariables(3, 4, Int)"
   ]
  },
  {
   "cell_type": "markdown",
   "id": "336e7a77-cb4d-44e3-8ed9-2971f343ee38",
   "metadata": {
    "tags": []
   },
   "source": [
    "## Sum"
   ]
  },
  {
   "cell_type": "code",
   "execution_count": 15,
   "id": "e2b8b6ca-c5a2-4d3f-b80e-9b665a470514",
   "metadata": {},
   "outputs": [],
   "source": [
    "import Base: +"
   ]
  },
  {
   "cell_type": "markdown",
   "id": "450dddec-3a5a-493e-83e8-9bf94e4dfc30",
   "metadata": {
    "tags": []
   },
   "source": [
    "### Taylor + Number"
   ]
  },
  {
   "cell_type": "code",
   "execution_count": 16,
   "id": "a5197a48-55a5-469d-9c53-258981d97fb0",
   "metadata": {},
   "outputs": [
    {
     "data": {
      "text/plain": [
       "+ (generic function with 209 methods)"
      ]
     },
     "execution_count": 16,
     "metadata": {},
     "output_type": "execute_result"
    }
   ],
   "source": [
    "function +(t1::SleepyTree{vars, g, leafs, it}, x ) where {vars, g, leafs, it}\n",
    "    tt = setindexsleepytree(leafs, x+_coors2value(leafs, (), 0, 1), (), 0, 1, vars, 0)\n",
    "    SleepyTree{ vars, g, tt, it}()\n",
    "end"
   ]
  },
  {
   "cell_type": "markdown",
   "id": "e2422eba-802b-43c9-9f6d-de5c3f5e8a1e",
   "metadata": {
    "tags": []
   },
   "source": [
    "### Taylor + Taylor"
   ]
  },
  {
   "cell_type": "code",
   "execution_count": 17,
   "id": "4d581342-7b2d-4489-99fa-ec832461d46d",
   "metadata": {},
   "outputs": [
    {
     "data": {
      "text/plain": [
       "_sum (generic function with 1 method)"
      ]
     },
     "execution_count": 17,
     "metadata": {},
     "output_type": "execute_result"
    }
   ],
   "source": [
    "@generated function _sum(t1::Tuple, t2::Tuple, leafssum::Tuple , vars::Int ,it::NTuple{len, T}) where {len, T}\n",
    "    exs = Array{Expr}(undef, len*3+1)\n",
    "    exs[1] = :(s = deepcopy(leafssum))\n",
    "    for i in 1:len\n",
    "        exs[(i-1)*3+2] = :(x = _coors2value(t1, it[$i], length(it[$i]), 1))\n",
    "        exs[(i-1)*3+3] = :(y =  _coors2value(t2, it[$i], length(it[$i]), 1))\n",
    "        exs[(i-1)*3+4] = :(s = setindexsleepytree(s, x+y, it[$i], length(it[$i]), 1, vars, 0))\n",
    "    end\n",
    "   return Expr(:block, exs...)\n",
    "end\n",
    "#_sum(getleafs(x), getleafs(y), getleafs(y), 3, ((1,), (2,), (3,)))"
   ]
  },
  {
   "cell_type": "code",
   "execution_count": 18,
   "id": "80569780-2470-4de9-9a34-cc8f0df1b32f",
   "metadata": {},
   "outputs": [
    {
     "data": {
      "text/plain": [
       "_sumgrads (generic function with 1 method)"
      ]
     },
     "execution_count": 18,
     "metadata": {},
     "output_type": "execute_result"
    }
   ],
   "source": [
    "@generated function _sumgrads(leafs1, leafs2, vars, ::Val{g}, it) where{g}\n",
    "    exs = Array{Expr}(undef, g+1)\n",
    "    exs[1] = :(s = deepcopy(leafs1))\n",
    "    for i in 1:g\n",
    "        exs[i+1] = :(s = _sum(s, leafs2, s, vars, it[$i]))\n",
    "    end\n",
    "    \n",
    "   return Expr(:block, exs...) \n",
    "end"
   ]
  },
  {
   "cell_type": "code",
   "execution_count": 19,
   "id": "09539175-4ce0-475f-b97a-634c07fa6d0c",
   "metadata": {},
   "outputs": [
    {
     "data": {
      "text/plain": [
       "+ (generic function with 210 methods)"
      ]
     },
     "execution_count": 19,
     "metadata": {},
     "output_type": "execute_result"
    }
   ],
   "source": [
    "function +(t1::SleepyTree{vars, g, leafs1, it}, \n",
    "        t2::SleepyTree{vars, g, leafs2, it}) where {vars, g, nodes, leafs1, leafs2, it}\n",
    "    tt = _sumgrads(leafs1, leafs2, vars, Val(g), it)\n",
    "    SleepyTree{ vars, g, tt, it}()\n",
    "end"
   ]
  },
  {
   "cell_type": "markdown",
   "id": "b23aba7f-f0bc-46db-8e77-671eb94e570a",
   "metadata": {
    "tags": []
   },
   "source": [
    "## Multiplication"
   ]
  },
  {
   "cell_type": "markdown",
   "id": "f5bf683e-f650-4912-ae0b-6032337e9eb3",
   "metadata": {
    "tags": []
   },
   "source": [
    "### Taylor * Scalar"
   ]
  },
  {
   "cell_type": "code",
   "execution_count": 20,
   "id": "bf482995-7864-4f0e-9117-93c2708c4222",
   "metadata": {},
   "outputs": [
    {
     "data": {
      "text/plain": [
       "_mul (generic function with 1 method)"
      ]
     },
     "execution_count": 20,
     "metadata": {},
     "output_type": "execute_result"
    }
   ],
   "source": [
    "@generated function _mul(m::Tuple, vars::Int, leafs1::Tuple, coors1::NTuple{n1, T1},  y) where {n1, T1}\n",
    "    exs = Array{Expr}(undef, n1)\n",
    "    exsix = 1\n",
    "    for i in 1:n1\n",
    "        exs[exsix] = quote\n",
    "            x = _coors2value(leafs1, coors1[$i], length(coors1[$i]), 1) ## TODO: cambiar por método principal y no auxiliar\n",
    "            m = setindex(m, x*y, coors1[$i], vars, +)\n",
    "        end\n",
    "        exsix += 1\n",
    "    end\n",
    "    return Expr(:block, exs...)\n",
    "end"
   ]
  },
  {
   "cell_type": "code",
   "execution_count": 21,
   "id": "afa995d6-5c93-431f-9481-74176467110c",
   "metadata": {},
   "outputs": [
    {
     "data": {
      "text/plain": [
       "mul"
      ]
     },
     "execution_count": 21,
     "metadata": {},
     "output_type": "execute_result"
    }
   ],
   "source": [
    "\"\"\"\n",
    "    mul(x,y)\n",
    "Computes the multiplication between to sleepy trees.\n",
    "\n",
    "\"\"\"\n",
    "@generated function mul(t1::SleepyTree{vars, g, leafs1, it}, y) where {vars, g, leafs1, it}\n",
    "    exs = Array{Expr}(undef, g+3)\n",
    "    exs[1] = :(m = zeroleafs(leafs1, vars, Val(g), it))\n",
    "    exprix = 2\n",
    "    for i in 0:g\n",
    "        exs[exprix] = :(m = _mul(m, $vars, leafs1, it[$i+1], y))\n",
    "        exprix += 1\n",
    "    end\n",
    "    exs[exprix] = :(SleepyTree{ vars, g, m, it}())\n",
    "    \n",
    "    return Expr(:block, exs...)\n",
    "end"
   ]
  },
  {
   "cell_type": "markdown",
   "id": "b2c41655-ca68-402d-b596-2021aaf41370",
   "metadata": {
    "tags": []
   },
   "source": [
    "### Taylor * Taylor"
   ]
  },
  {
   "cell_type": "code",
   "execution_count": 22,
   "id": "f1787a88-e34c-4c41-bc05-cda952dd1fce",
   "metadata": {},
   "outputs": [
    {
     "data": {
      "text/plain": [
       "_mul (generic function with 2 methods)"
      ]
     },
     "execution_count": 22,
     "metadata": {},
     "output_type": "execute_result"
    }
   ],
   "source": [
    "@generated function _mul(m::Tuple, vars::Int, leafs1::Tuple, coors1::NTuple{n1, T1}, \n",
    "        leafs2::Tuple, coors2::NTuple{n2, T2}) where {n1, n2, T1, T2}\n",
    "    exs = Array{Expr}(undef, n1*n2)\n",
    "    exsix = 1\n",
    "    for i in 1:n1\n",
    "        for j in 1:n2\n",
    "            exs[exsix] = quote\n",
    "                x = _coors2value(leafs1, coors1[$i], length(coors1[$i]), 1) ## TODO: cambiar por método principal y no auxiliar\n",
    "                y = _coors2value(leafs2, coors2[$j], length(coors2[$j]), 1)\n",
    "                newcoors =  fusioncoors(coors1[$i], coors2[$j])\n",
    "                m = setindex(m, x*y, fusioncoors(coors1[$i], coors2[$j]), vars, +)\n",
    "            end\n",
    "            exsix += 1\n",
    "        end\n",
    "    end\n",
    "    return Expr(:block, exs...)\n",
    "end"
   ]
  },
  {
   "cell_type": "code",
   "execution_count": 23,
   "id": "dd1871fa-2224-48f6-bb07-0706c6beac20",
   "metadata": {},
   "outputs": [
    {
     "data": {
      "text/plain": [
       "mul"
      ]
     },
     "execution_count": 23,
     "metadata": {},
     "output_type": "execute_result"
    }
   ],
   "source": [
    "\"\"\"\n",
    "    mul(x,y)\n",
    "Computes the multiplication between to sleepy trees.\n",
    "\n",
    "\"\"\"\n",
    "@generated function mul(t1::SleepyTree{vars, g, leafs1, it}, \n",
    "        t2::SleepyTree{vars, g,leafs2, it}) where {vars, g, leafs1, leafs2, it}\n",
    "    exs = Array{Expr}(undef, convert(Int, (g+1)*(g+2)/2+2))\n",
    "    exs[1] = :(m = zeroleafs(leafs1, vars, Val(g), it))\n",
    "    exprix = 2\n",
    "    for i in 0:g\n",
    "        for j in 0:i\n",
    "            exs[exprix] = :(m = _mul(m, $vars, leafs1, it[$j+1], leafs2, it[$g-$i+1]))\n",
    "            exprix += 1\n",
    "        end\n",
    "    end\n",
    "    exs[exprix] = :(SleepyTree{ vars, g, nodes, m, it}())\n",
    "    \n",
    "    return Expr(:block, exs...)\n",
    "end"
   ]
  },
  {
   "cell_type": "markdown",
   "id": "489ea950-0a03-43da-9651-beb4d1e5d4ee",
   "metadata": {
    "tags": []
   },
   "source": [
    "## Printing"
   ]
  },
  {
   "cell_type": "code",
   "execution_count": 24,
   "id": "19a6f4c8-cd00-4c5a-8b7e-aa9fe7cbe3be",
   "metadata": {},
   "outputs": [],
   "source": [
    "const subscript_digits = [c for c in \"₀₁₂₃₄₅₆₇₈₉\"]\n",
    "const superscript_digits = [c for c in \"⁰¹²³⁴⁵⁶⁷⁸⁹\"]\n",
    "nothing"
   ]
  },
  {
   "cell_type": "code",
   "execution_count": 25,
   "id": "85bce61c-1369-4bfb-ac97-7c086aa1101d",
   "metadata": {},
   "outputs": [
    {
     "data": {
      "text/plain": [
       "superscriptify (generic function with 1 method)"
      ]
     },
     "execution_count": 25,
     "metadata": {},
     "output_type": "execute_result"
    }
   ],
   "source": [
    "function subscriptify(n::Int)\n",
    "    dig = reverse(digits(n))\n",
    "    join([subscript_digits[i+1] for i in dig])\n",
    "end\n",
    "\n",
    "function superscriptify(n::Int)\n",
    "    dig = reverse(digits(n))\n",
    "    join([superscript_digits[i+1] for i in dig])\n",
    "end"
   ]
  },
  {
   "cell_type": "code",
   "execution_count": 26,
   "id": "afa35801-cac0-4b49-b3f4-77b964fb1602",
   "metadata": {},
   "outputs": [
    {
     "data": {
      "text/plain": [
       "_coors2vars (generic function with 1 method)"
      ]
     },
     "execution_count": 26,
     "metadata": {},
     "output_type": "execute_result"
    }
   ],
   "source": [
    "function _coors2vars(coors, n)\n",
    "    ix = 1\n",
    "    offset = 0\n",
    "    vars = ntuple(n->zero(Int), Val(n)) # cambiar por ntuple\n",
    "   for i in coors\n",
    "        if i==1\n",
    "            vars = (vars[1:ix-1]..., vars[ix]+1, vars[ix+1:n]...)\n",
    "        else\n",
    "           ix = ix+ i -1\n",
    "            vars = (vars[1:ix-1]..., vars[ix]+1, vars[ix+1:n]...)\n",
    "    end\n",
    "end\n",
    "    return vars\n",
    "end"
   ]
  },
  {
   "cell_type": "code",
   "execution_count": 27,
   "id": "e42f90c4-a778-4f6b-a2cf-f02f7e51c4a5",
   "metadata": {},
   "outputs": [
    {
     "data": {
      "text/plain": [
       "coors2str"
      ]
     },
     "execution_count": 27,
     "metadata": {},
     "output_type": "execute_result"
    }
   ],
   "source": [
    "\"\"\"\n",
    "    coors2str(coors::Tuple, n::Int)\n",
    "\n",
    "Dadas coordenadas del árbol y el número de variables regresa su forma como monomio\n",
    "```julia\n",
    "coors2str((1,1,2), 3) #\"x₁²x₂¹\"\n",
    "```\n",
    "\"\"\"\n",
    "function coors2str(coors, n)\n",
    "    vars = _coors2vars(coors, n)\n",
    "    s = \"\"\n",
    "    for (i, x) in enumerate(vars)\n",
    "        if(x!=0)\n",
    "            s *= \"x\"*subscriptify(i)*superscriptify(x)\n",
    "        end\n",
    "    end\n",
    "    s\n",
    "end"
   ]
  },
  {
   "cell_type": "code",
   "execution_count": 28,
   "id": "e9d6d3f9-60e0-4d88-94c2-f5c251973bd7",
   "metadata": {},
   "outputs": [],
   "source": [
    "Base.show(io::IO, p::SleepyTree{vars, g, nodes, leafs, it}) where {vars, g, nodes, leafs, it}  = begin \n",
    "    hasp = false\n",
    "    for grados in it\n",
    "        for index in grados\n",
    "            v = _coors2value(leafs, index, length(index), 1)\n",
    "            if !iszero(v)\n",
    "                if(hasp)\n",
    "                    print(io, \"+\")\n",
    "                end\n",
    "                if isone(v) && index!=()\n",
    "                    print(io, coors2str(index, vars))\n",
    "                else\n",
    "                    print(io, v,coors2str(index, vars))\n",
    "                end\n",
    "                \n",
    "                hasp=true\n",
    "            end\n",
    "        end\n",
    "    end\n",
    "end"
   ]
  },
  {
   "cell_type": "markdown",
   "id": "3384de45-a98b-4c01-aa2a-42daaf1a3481",
   "metadata": {},
   "source": [
    "## Testing and benchmark"
   ]
  },
  {
   "cell_type": "markdown",
   "id": "a422150a-cde5-40ae-97fe-b12a9940f0b5",
   "metadata": {
    "tags": []
   },
   "source": [
    "### Printing"
   ]
  },
  {
   "cell_type": "code",
   "execution_count": 29,
   "id": "77afc253-9987-4203-a603-983d595c9a0a",
   "metadata": {},
   "outputs": [
    {
     "data": {
      "text/plain": [
       "x₁¹+x₂¹+x₃¹"
      ]
     },
     "execution_count": 29,
     "metadata": {},
     "output_type": "execute_result"
    }
   ],
   "source": [
    "x+y+z"
   ]
  },
  {
   "cell_type": "code",
   "execution_count": 30,
   "id": "cc06215f-afc1-4722-861a-7f4540e5652b",
   "metadata": {},
   "outputs": [
    {
     "data": {
      "text/plain": [
       "1+x₁¹"
      ]
     },
     "execution_count": 30,
     "metadata": {},
     "output_type": "execute_result"
    }
   ],
   "source": [
    "x+1"
   ]
  },
  {
   "cell_type": "markdown",
   "id": "6ec1c68c-6db7-4e23-b136-00848e149f7c",
   "metadata": {},
   "source": [
    "### Benchmark"
   ]
  },
  {
   "cell_type": "code",
   "execution_count": 31,
   "id": "c4d37805-c7b2-407f-b51b-6eb49b8ffd25",
   "metadata": {},
   "outputs": [],
   "source": [
    "using BenchmarkTools"
   ]
  },
  {
   "cell_type": "code",
   "execution_count": 32,
   "id": "928094ce-32c5-401e-95d7-f26b38032f70",
   "metadata": {},
   "outputs": [
    {
     "data": {
      "text/plain": [
       "BenchmarkTools.Trial: 10000 samples with 1000 evaluations.\n",
       " Range \u001b[90m(\u001b[39m\u001b[36m\u001b[1mmin\u001b[22m\u001b[39m … \u001b[35mmax\u001b[39m\u001b[90m):  \u001b[39m\u001b[36m\u001b[1m1.458 ns\u001b[22m\u001b[39m … \u001b[35m8.125 ns\u001b[39m  \u001b[90m┊\u001b[39m GC \u001b[90m(\u001b[39mmin … max\u001b[90m): \u001b[39m0.00% … 0.00%\n",
       " Time  \u001b[90m(\u001b[39m\u001b[34m\u001b[1mmedian\u001b[22m\u001b[39m\u001b[90m):     \u001b[39m\u001b[34m\u001b[1m1.542 ns             \u001b[22m\u001b[39m\u001b[90m┊\u001b[39m GC \u001b[90m(\u001b[39mmedian\u001b[90m):    \u001b[39m0.00%\n",
       " Time  \u001b[90m(\u001b[39m\u001b[32m\u001b[1mmean\u001b[22m\u001b[39m ± \u001b[32mσ\u001b[39m\u001b[90m):   \u001b[39m\u001b[32m\u001b[1m1.549 ns\u001b[22m\u001b[39m ± \u001b[32m0.081 ns\u001b[39m  \u001b[90m┊\u001b[39m GC \u001b[90m(\u001b[39mmean ± σ\u001b[90m):  \u001b[39m0.00% ± 0.00%\n",
       "\n",
       "  \u001b[39m \u001b[39m \u001b[39m \u001b[39m \u001b[39m \u001b[39m \u001b[39m \u001b[39m \u001b[39m \u001b[39m \u001b[39m \u001b[39m \u001b[39m \u001b[39m \u001b[39m \u001b[39m \u001b[39m \u001b[39m \u001b[39m \u001b[39m \u001b[39m \u001b[39m \u001b[39m \u001b[39m \u001b[39m \u001b[39m \u001b[39m \u001b[39m \u001b[39m \u001b[39m \u001b[39m \u001b[39m \u001b[39m \u001b[39m \u001b[39m \u001b[39m \u001b[39m \u001b[39m█\u001b[34m \u001b[39m\u001b[39m \u001b[39m \u001b[32m \u001b[39m\u001b[39m \u001b[39m \u001b[39m \u001b[39m \u001b[39m \u001b[39m \u001b[39m \u001b[39m \u001b[39m \u001b[39m \u001b[39m \u001b[39m \u001b[39m \u001b[39m \u001b[39m \u001b[39m \u001b[39m \n",
       "  \u001b[39m▂\u001b[39m▁\u001b[39m▁\u001b[39m▁\u001b[39m▁\u001b[39m▁\u001b[39m▁\u001b[39m▁\u001b[39m▁\u001b[39m▁\u001b[39m▁\u001b[39m▁\u001b[39m▁\u001b[39m▁\u001b[39m▁\u001b[39m▁\u001b[39m▁\u001b[39m▁\u001b[39m▂\u001b[39m▁\u001b[39m▁\u001b[39m▁\u001b[39m▁\u001b[39m▁\u001b[39m▁\u001b[39m▁\u001b[39m▁\u001b[39m▁\u001b[39m▁\u001b[39m▁\u001b[39m▁\u001b[39m▁\u001b[39m▁\u001b[39m▁\u001b[39m▁\u001b[39m▁\u001b[39m▁\u001b[39m█\u001b[34m▁\u001b[39m\u001b[39m▁\u001b[39m▁\u001b[32m▁\u001b[39m\u001b[39m▁\u001b[39m▁\u001b[39m▁\u001b[39m▁\u001b[39m▁\u001b[39m▁\u001b[39m▁\u001b[39m▁\u001b[39m▁\u001b[39m▁\u001b[39m▁\u001b[39m▁\u001b[39m▁\u001b[39m▁\u001b[39m▄\u001b[39m \u001b[39m▂\n",
       "  1.46 ns\u001b[90m        Histogram: frequency by time\u001b[39m       1.58 ns \u001b[0m\u001b[1m<\u001b[22m\n",
       "\n",
       " Memory estimate\u001b[90m: \u001b[39m\u001b[33m0 bytes\u001b[39m, allocs estimate\u001b[90m: \u001b[39m\u001b[33m0\u001b[39m."
      ]
     },
     "execution_count": 32,
     "metadata": {},
     "output_type": "execute_result"
    }
   ],
   "source": [
    "@benchmark x+y"
   ]
  },
  {
   "cell_type": "code",
   "execution_count": 33,
   "id": "2975b2ec-1241-4ef4-a393-0b2616b1bb4c",
   "metadata": {},
   "outputs": [
    {
     "data": {
      "text/plain": [
       "BenchmarkTools.Trial: 10000 samples with 1000 evaluations.\n",
       " Range \u001b[90m(\u001b[39m\u001b[36m\u001b[1mmin\u001b[22m\u001b[39m … \u001b[35mmax\u001b[39m\u001b[90m):  \u001b[39m\u001b[36m\u001b[1m1.458 ns\u001b[22m\u001b[39m … \u001b[35m11.583 ns\u001b[39m  \u001b[90m┊\u001b[39m GC \u001b[90m(\u001b[39mmin … max\u001b[90m): \u001b[39m0.00% … 0.00%\n",
       " Time  \u001b[90m(\u001b[39m\u001b[34m\u001b[1mmedian\u001b[22m\u001b[39m\u001b[90m):     \u001b[39m\u001b[34m\u001b[1m1.542 ns              \u001b[22m\u001b[39m\u001b[90m┊\u001b[39m GC \u001b[90m(\u001b[39mmedian\u001b[90m):    \u001b[39m0.00%\n",
       " Time  \u001b[90m(\u001b[39m\u001b[32m\u001b[1mmean\u001b[22m\u001b[39m ± \u001b[32mσ\u001b[39m\u001b[90m):   \u001b[39m\u001b[32m\u001b[1m1.550 ns\u001b[22m\u001b[39m ± \u001b[32m 0.145 ns\u001b[39m  \u001b[90m┊\u001b[39m GC \u001b[90m(\u001b[39mmean ± σ\u001b[90m):  \u001b[39m0.00% ± 0.00%\n",
       "\n",
       "  \u001b[39m \u001b[39m \u001b[39m \u001b[39m \u001b[39m \u001b[39m \u001b[39m \u001b[39m \u001b[39m \u001b[39m \u001b[39m \u001b[39m \u001b[39m \u001b[39m \u001b[39m \u001b[39m \u001b[39m \u001b[39m \u001b[39m \u001b[39m \u001b[39m \u001b[39m \u001b[39m \u001b[39m \u001b[39m \u001b[39m \u001b[39m \u001b[39m \u001b[39m \u001b[39m \u001b[39m \u001b[39m \u001b[39m \u001b[39m \u001b[39m \u001b[39m \u001b[39m \u001b[39m \u001b[39m█\u001b[34m \u001b[39m\u001b[39m \u001b[39m \u001b[32m \u001b[39m\u001b[39m \u001b[39m \u001b[39m \u001b[39m \u001b[39m \u001b[39m \u001b[39m \u001b[39m \u001b[39m \u001b[39m \u001b[39m \u001b[39m \u001b[39m \u001b[39m \u001b[39m \u001b[39m \u001b[39m \n",
       "  \u001b[39m▂\u001b[39m▁\u001b[39m▁\u001b[39m▁\u001b[39m▁\u001b[39m▁\u001b[39m▁\u001b[39m▁\u001b[39m▁\u001b[39m▁\u001b[39m▁\u001b[39m▁\u001b[39m▁\u001b[39m▁\u001b[39m▁\u001b[39m▁\u001b[39m▁\u001b[39m▁\u001b[39m▁\u001b[39m▂\u001b[39m▁\u001b[39m▁\u001b[39m▁\u001b[39m▁\u001b[39m▁\u001b[39m▁\u001b[39m▁\u001b[39m▁\u001b[39m▁\u001b[39m▁\u001b[39m▁\u001b[39m▁\u001b[39m▁\u001b[39m▁\u001b[39m▁\u001b[39m▁\u001b[39m▁\u001b[39m▁\u001b[39m█\u001b[34m▁\u001b[39m\u001b[39m▁\u001b[39m▁\u001b[32m▁\u001b[39m\u001b[39m▁\u001b[39m▁\u001b[39m▁\u001b[39m▁\u001b[39m▁\u001b[39m▁\u001b[39m▁\u001b[39m▁\u001b[39m▁\u001b[39m▁\u001b[39m▁\u001b[39m▁\u001b[39m▁\u001b[39m▁\u001b[39m▄\u001b[39m \u001b[39m▂\n",
       "  1.46 ns\u001b[90m        Histogram: frequency by time\u001b[39m        1.58 ns \u001b[0m\u001b[1m<\u001b[22m\n",
       "\n",
       " Memory estimate\u001b[90m: \u001b[39m\u001b[33m0 bytes\u001b[39m, allocs estimate\u001b[90m: \u001b[39m\u001b[33m0\u001b[39m."
      ]
     },
     "execution_count": 33,
     "metadata": {},
     "output_type": "execute_result"
    }
   ],
   "source": [
    "@benchmark mul(x,y)"
   ]
  },
  {
   "cell_type": "code",
   "execution_count": null,
   "id": "fb032fd9-1e99-4c9f-9c1c-dd4943598ff7",
   "metadata": {},
   "outputs": [],
   "source": []
  }
 ],
 "metadata": {
  "kernelspec": {
   "display_name": "Julia 1.7.2",
   "language": "julia",
   "name": "julia-1.7"
  },
  "language_info": {
   "file_extension": ".jl",
   "mimetype": "application/julia",
   "name": "julia",
   "version": "1.7.2"
  }
 },
 "nbformat": 4,
 "nbformat_minor": 5
}
